{
 "cells": [
  {
   "cell_type": "code",
   "execution_count": 2,
   "id": "17235d58",
   "metadata": {},
   "outputs": [],
   "source": [
    "import matplotlib.pyplot as plt\n",
    "import numpy as np\n",
    "import json\n",
    "\n",
    "from egci_bioacoustic_shifts import plot_EGCI\n"
   ]
  },
  {
   "cell_type": "code",
   "execution_count": 3,
   "id": "4bb71cd8",
   "metadata": {},
   "outputs": [],
   "source": [
    "with open(\"e1_results.json\", \"r\") as f:\n",
    "    e1_results = json.load(f)\n"
   ]
  },
  {
   "cell_type": "code",
   "execution_count": 19,
   "id": "ac57e2b4",
   "metadata": {},
   "outputs": [
    {
     "name": "stdout",
     "output_type": "stream",
     "text": [
      "HSN 0.052 0.0\n",
      "PER 0.0 0.996\n",
      "UHH 0.544 0.0\n",
      "SNE 0.147 0.66\n",
      "POW 0.0 0.962\n",
      "NES 0.037 0.998\n"
     ]
    }
   ],
   "source": [
    "from egci_bioacoustic_shifts.utils import measure_distrbution_metrics\n",
    "import pandas as pd\n",
    "\n",
    "regions = [\"HSN\", \"PER\", \"UHH\", \"SNE\", \"POW\", \"NES\"]\n",
    "num_samples = 2000\n",
    "num_trials = 1000\n",
    "\n",
    "\n",
    "for region in regions:\n",
    "    focal_data = e1_results[region][\"data\"][\"focal\"]\n",
    "    soundscape_data = e1_results[region][\"data\"][\"soundscape\"]\n",
    "\n",
    "    focal_data = np.array(focal_data[:2])\n",
    "    soundscape_data = np.array(soundscape_data[:2])\n",
    "\n",
    "    focal_data = focal_data[:min(focal_data.shape[-1], soundscape_data.shape[-1])]\n",
    "    soundscape_data = soundscape_data[:min(focal_data.shape[-1], soundscape_data.shape[-1])]\n",
    "\n",
    "    test_df = pd.DataFrame(\n",
    "        {\n",
    "            \"h\": np.concat((focal_data[0], soundscape_data[0])),\n",
    "            \"c\": np.concat((focal_data[1], soundscape_data[1])),\n",
    "            \"label\": [\"focal\"] * focal_data.shape[-1] + [\"soundscape\"] * soundscape_data.shape[-1]\n",
    "        }\n",
    "    )\n",
    "\n",
    "    sample_stats = measure_distrbution_metrics(\n",
    "        test_df[test_df[\"label\"] == \"focal\"][[\"h\", \"c\"]],\n",
    "        test_df[test_df[\"label\"] == \"soundscape\"][[\"h\", \"c\"]],\n",
    "        emd=False\n",
    "    )\n",
    "\n",
    "    KL_d_XC_S = []\n",
    "    KL_d_S_XC = []\n",
    "\n",
    "    for i in range(num_trials):\n",
    "        test_df[\"label_shuffled\"] = test_df[\"label\"].sample(frac=1, replace=True).reset_index(drop=True)\n",
    "        out = measure_distrbution_metrics(\n",
    "            test_df[test_df[\"label_shuffled\"] == \"focal\"][[\"h\", \"c\"]],\n",
    "            test_df[test_df[\"label_shuffled\"] == \"soundscape\"][[\"h\", \"c\"]],\n",
    "            emd=False\n",
    "        )\n",
    "        KL_d_XC_S.append(out[\"Kullback-Leibler divergence Xeno-canto to Soundscapes\"])\n",
    "        KL_d_S_XC.append(out[\"Kullback-Leibler divergence Soundscapes to Xeno-canto\"])\n",
    "\n",
    "    print(\n",
    "        region,\n",
    "        (np.array(KL_d_XC_S) > sample_stats[\"Kullback-Leibler divergence Xeno-canto to Soundscapes\"]).mean(),\n",
    "        (np.array(KL_d_S_XC) > sample_stats[\"Kullback-Leibler divergence Soundscapes to Xeno-canto\"]).mean(),\n",
    "    )"
   ]
  },
  {
   "cell_type": "code",
   "execution_count": 14,
   "id": "ebe7ed3e",
   "metadata": {},
   "outputs": [
    {
     "data": {
      "text/plain": [
       "(4000, 3)"
      ]
     },
     "execution_count": 14,
     "metadata": {},
     "output_type": "execute_result"
    }
   ],
   "source": [
    "test_df.shape"
   ]
  },
  {
   "cell_type": "code",
   "execution_count": null,
   "id": "ccf0a0c6",
   "metadata": {},
   "outputs": [],
   "source": []
  }
 ],
 "metadata": {
  "kernelspec": {
   "display_name": "egci-bioacoustic-shifts",
   "language": "python",
   "name": "python3"
  },
  "language_info": {
   "codemirror_mode": {
    "name": "ipython",
    "version": 3
   },
   "file_extension": ".py",
   "mimetype": "text/x-python",
   "name": "python",
   "nbconvert_exporter": "python",
   "pygments_lexer": "ipython3",
   "version": "3.11.11"
  }
 },
 "nbformat": 4,
 "nbformat_minor": 5
}
